{
  "nbformat": 4,
  "nbformat_minor": 0,
  "metadata": {
    "colab": {
      "name": "Testing_NN.ipynb",
      "provenance": []
    },
    "kernelspec": {
      "name": "python3",
      "display_name": "Python 3"
    }
  },
  "cells": [
    {
      "cell_type": "code",
      "metadata": {
        "id": "rmKMgSVayr3R",
        "colab_type": "code",
        "colab": {}
      },
      "source": [
        "import numpy as np\n",
        "from sklearn import datasets\n",
        "from keras.models import Sequential\n",
        "from keras.layers import Dense, Activation, Reshape, Input, add\n",
        "from keras.datasets import mnist\n",
        "from keras.preprocessing.image import ImageDataGenerator\n",
        "from keras.models import Model\n",
        "from keras.layers import Conv2D, MaxPooling2D, Flatten\n",
        "from keras.layers import BatchNormalization\n",
        "import matplotlib.pyplot as plt\n",
        "import pandas as pd\n",
        "import shutil\n",
        "import os\n",
        "from google.colab import files\n",
        "import zipfile\n",
        "from Simple_Models import Simple_CNN\n",
        "import warnings"
      ],
      "execution_count": 0,
      "outputs": []
    },
    {
      "cell_type": "markdown",
      "metadata": {
        "id": "xulw-bzqH5Bl",
        "colab_type": "text"
      },
      "source": [
        "**IMPORTANT: Here you need in insert a cell with the following:**\n",
        "\n",
        "files.upload()\n",
        "\n",
        "**You then need to upload your kaggle api json file, that you can get from your kaggle profile**"
      ]
    },
    {
      "cell_type": "code",
      "metadata": {
        "id": "LzyJRvtzyyVq",
        "colab_type": "code",
        "colab": {
          "base_uri": "https://localhost:8080/",
          "height": 105
        },
        "outputId": "7adc58b0-b539-46d7-91af-372571079598"
      },
      "source": [
        "!pip install -q kaggle\n",
        "\n",
        "!mkdir -p ~/.kaggle\n",
        "!cp kaggle.json ~/.kaggle/\n",
        "\n",
        "!kaggle datasets download -d paultimothymooney/breast-histopathology-images --force"
      ],
      "execution_count": 5,
      "outputs": [
        {
          "output_type": "stream",
          "text": [
            "Warning: Your Kaggle API key is readable by other users on this system! To fix this, you can run 'chmod 600 /root/.kaggle/kaggle.json'\n",
            "Downloading breast-histopathology-images.zip to /content\n",
            " 99% 1.48G/1.49G [00:35<00:00, 47.6MB/s]\n",
            "100% 1.49G/1.49G [00:35<00:00, 45.2MB/s]\n"
          ],
          "name": "stdout"
        }
      ]
    },
    {
      "cell_type": "code",
      "metadata": {
        "id": "i291aECqy2PY",
        "colab_type": "code",
        "colab": {}
      },
      "source": [
        "! mkdir 'Pictures'\n",
        "! mkdir 'Train'\n",
        "! mkdir 'Val'\n",
        "! mkdir 'Test'\n",
        "! mkdir 'Train/0'\n",
        "! mkdir 'Train/1'\n",
        "! mkdir 'Test/0'\n",
        "! mkdir 'Test/1'\n",
        "! mkdir 'Val/0'\n",
        "! mkdir 'Val/1'"
      ],
      "execution_count": 0,
      "outputs": []
    },
    {
      "cell_type": "code",
      "metadata": {
        "id": "UvoqT_V1y4s7",
        "colab_type": "code",
        "colab": {}
      },
      "source": [
        "zip = zipfile.ZipFile('/content/breast-histopathology-images.zip', 'r')\n",
        "zip.extractall('/content')\n",
        "zip.close()"
      ],
      "execution_count": 0,
      "outputs": []
    },
    {
      "cell_type": "code",
      "metadata": {
        "id": "bW7Ua9fXCEZJ",
        "colab_type": "code",
        "colab": {}
      },
      "source": [
        "zip2 = zipfile.ZipFile('/content/IDC_regular_ps50_idx5.zip', 'r')\n",
        "zip2.extractall('/Pictures/')\n",
        "zip2.close()"
      ],
      "execution_count": 0,
      "outputs": []
    },
    {
      "cell_type": "code",
      "metadata": {
        "id": "ouVcsEy-CGxt",
        "colab_type": "code",
        "colab": {}
      },
      "source": [
        "#setting random seed\n",
        "np.random.seed(15)\n",
        "\n",
        "#numbers from kaggle, will be used to rebalance data\n",
        "num_neg = 198738\n",
        "num_pos = 78786\n",
        "\n",
        "ratio = num_pos/num_neg\n",
        "\n",
        "#going through each folder\n",
        "for folder in os.listdir('/Pictures'):\n",
        "    #going through each file that in this folder in class 0\n",
        "    for file in os.listdir('/Pictures/' + folder + '/0'):\n",
        "        \n",
        "        #will only add points under certain criteria to rebalance data\n",
        "        rand_undersample = np.random.uniform(0, 1)\n",
        "        #checking random ratio\n",
        "        if rand_undersample < ratio:\n",
        "            \n",
        "            rand = np.random.uniform(0, 1)\n",
        "            #adding to training with 0.6 chance\n",
        "            if rand > 0.4:\n",
        "                shutil.copy(src = '/Pictures/' + folder + '/0/' + file, dst = 'Train/0')\n",
        "        \n",
        "            #adding to validation with 0.2 chance\n",
        "            elif rand < 0.2:\n",
        "                shutil.copy(src = '/Pictures/' + folder + '/0/' + file, dst = 'Val/0')\n",
        "        \n",
        "            #adding to test with 0.2 chance\n",
        "            else:\n",
        "                shutil.copy(src = '/Pictures/' + folder + '/0/' + file, dst = 'Test/0')\n",
        "                \n",
        "    #going through each file that in this folder in class 1\n",
        "    for file in os.listdir('/Pictures/' + folder + '/1'):\n",
        "        #adding to training with 0.6 chance\n",
        "        rand = np.random.uniform(0, 1)\n",
        "        if rand > 0.4:\n",
        "            shutil.copy(src = '/Pictures/' + folder + '/1/' + file, dst = 'Train/1')\n",
        "        \n",
        "        #adding to validation with 0.2 chance\n",
        "        elif rand < 0.2:\n",
        "            shutil.copy(src = '/Pictures/' + folder + '/1/' + file, dst = 'Val/1')\n",
        "        \n",
        "        #adding to test with 0.2 chance\n",
        "        else:\n",
        "            shutil.copy(src = '/Pictures/' + folder + '/1/' + file, dst = 'Test/1')"
      ],
      "execution_count": 0,
      "outputs": []
    },
    {
      "cell_type": "code",
      "metadata": {
        "id": "noxLTQQQJw5H",
        "colab_type": "code",
        "colab": {
          "base_uri": "https://localhost:8080/",
          "height": 51
        },
        "outputId": "d5c906a0-c76c-4054-9c22-9f7740fb6964"
      },
      "source": [
        "#defining datagen\n",
        "datagen = ImageDataGenerator()\n",
        "\n",
        "#defining test/train datagen\n",
        "test_datagen = ImageDataGenerator()\n",
        "\n",
        "\n",
        "#defining generators\n",
        "train_generator = datagen.flow_from_directory(\n",
        "        directory = 'Train',\n",
        "        target_size=(50, 50),\n",
        "        batch_size=32,\n",
        "        class_mode='binary',\n",
        "        shuffle = True)\n",
        "\n",
        "\n",
        "validation_generator = test_datagen.flow_from_directory(\n",
        "        directory = 'Val',\n",
        "        target_size=(50, 50),\n",
        "        batch_size=32,\n",
        "        class_mode='binary',\n",
        "        shuffle = True)"
      ],
      "execution_count": 10,
      "outputs": [
        {
          "output_type": "stream",
          "text": [
            "Found 94872 images belonging to 2 classes.\n",
            "Found 31494 images belonging to 2 classes.\n"
          ],
          "name": "stdout"
        }
      ]
    },
    {
      "cell_type": "markdown",
      "metadata": {
        "id": "BatzCNABKT68",
        "colab_type": "text"
      },
      "source": [
        "**We have now successfully imported all of our data from Kaggle and are ready to start bringing in our models and training.**\n",
        "\n",
        "Note that because I wanted the majority of this notebook to be focused on looking at the results of the different models, all of the models have been definited in other python scripts. Please go to those files in order to get details on the exact architecture of the files. I will provide a short description of the architecture in the text above a model, but for details please look in the Simple_Models.py or Complex_Models.py python files."
      ]
    },
    {
      "cell_type": "code",
      "metadata": {
        "id": "H9G_gvk_KS5a",
        "colab_type": "code",
        "colab": {
          "base_uri": "https://localhost:8080/",
          "height": 360
        },
        "outputId": "ae9199d7-9725-4f25-9c0b-843615379420"
      },
      "source": [
        "warnings.filterwarnings(\"ignore\")\n",
        "\n",
        "simpleCNN = Simple_CNN(1,(50, 50, 3),(3, 3),'softmax')\n",
        "simplePerceptron = perceptron(128,1,(50, 50, 3),0.01,'softmax')\n",
        "simple_Dense = simple_Dense(128,1,(50, 50, 3),0.01,'softmax')\n",
        "\n",
        "warnings.filterwarnings(\"default\")"
      ],
      "execution_count": 22,
      "outputs": [
        {
          "output_type": "stream",
          "text": [
            "WARNING:tensorflow:From /usr/local/lib/python3.6/dist-packages/keras/backend/tensorflow_backend.py:66: The name tf.get_default_graph is deprecated. Please use tf.compat.v1.get_default_graph instead.\n",
            "\n",
            "WARNING:tensorflow:From /usr/local/lib/python3.6/dist-packages/keras/backend/tensorflow_backend.py:541: The name tf.placeholder is deprecated. Please use tf.compat.v1.placeholder instead.\n",
            "\n",
            "WARNING:tensorflow:From /usr/local/lib/python3.6/dist-packages/keras/backend/tensorflow_backend.py:4432: The name tf.random_uniform is deprecated. Please use tf.random.uniform instead.\n",
            "\n",
            "WARNING:tensorflow:From /usr/local/lib/python3.6/dist-packages/keras/backend/tensorflow_backend.py:190: The name tf.get_default_session is deprecated. Please use tf.compat.v1.get_default_session instead.\n",
            "\n",
            "WARNING:tensorflow:From /usr/local/lib/python3.6/dist-packages/keras/backend/tensorflow_backend.py:197: The name tf.ConfigProto is deprecated. Please use tf.compat.v1.ConfigProto instead.\n",
            "\n",
            "WARNING:tensorflow:From /usr/local/lib/python3.6/dist-packages/keras/backend/tensorflow_backend.py:2041: The name tf.nn.fused_batch_norm is deprecated. Please use tf.compat.v1.nn.fused_batch_norm instead.\n",
            "\n",
            "WARNING:tensorflow:From /usr/local/lib/python3.6/dist-packages/keras/backend/tensorflow_backend.py:4267: The name tf.nn.max_pool is deprecated. Please use tf.nn.max_pool2d instead.\n",
            "\n",
            "WARNING:tensorflow:From /usr/local/lib/python3.6/dist-packages/keras/optimizers.py:793: The name tf.train.Optimizer is deprecated. Please use tf.compat.v1.train.Optimizer instead.\n",
            "\n",
            "WARNING:tensorflow:From /usr/local/lib/python3.6/dist-packages/tensorflow/python/ops/nn_impl.py:180: add_dispatch_support.<locals>.wrapper (from tensorflow.python.ops.array_ops) is deprecated and will be removed in a future version.\n",
            "Instructions for updating:\n",
            "Use tf.where in 2.0, which has the same broadcast rule as np.where\n"
          ],
          "name": "stdout"
        }
      ]
    },
    {
      "cell_type": "code",
      "metadata": {
        "id": "DO4-Ob4YP48o",
        "colab_type": "code",
        "colab": {}
      },
      "source": [
        "history_cnn = simpleCNN.fit_generator(train_generator,\n",
        "        steps_per_epoch=2000,\n",
        "        epochs=10,\n",
        "        validation_data=validation_generator,\n",
        "        validation_steps=800, verbose=0)"
      ],
      "execution_count": 0,
      "outputs": []
    },
    {
      "cell_type": "code",
      "metadata": {
        "id": "sf6BnCRdeY5U",
        "colab_type": "code",
        "colab": {
          "base_uri": "https://localhost:8080/",
          "height": 295
        },
        "outputId": "176cbf59-a898-4e9c-dc03-4ea5cfefbfbb"
      },
      "source": [
        "df = pd.DataFrame(data = history_cnn.history)\n",
        "plt.plot(df.acc)\n",
        "plt.plot(df.val_acc)\n",
        "plt.ylabel(\"Accuracy\")\n",
        "plt.xlabel(\"Epoch\")\n",
        "plt.title(\"Epoch vs Accuracy\")\n",
        "_ = plt.legend(['train', 'test'], loc='best')"
      ],
      "execution_count": 26,
      "outputs": [
        {
          "output_type": "display_data",
          "data": {
            "image/png": "[encoded data removed]",
            "text/plain": [
              "<Figure size 432x288 with 1 Axes>"
            ]
          },
          "metadata": {
            "tags": []
          }
        }
      ]
    },
    {
      "cell_type": "code",
      "metadata": {
        "id": "eAR8p614eKBn",
        "colab_type": "code",
        "colab": {}
      },
      "source": [
        ""
      ],
      "execution_count": 0,
      "outputs": []
    }
  ]
}